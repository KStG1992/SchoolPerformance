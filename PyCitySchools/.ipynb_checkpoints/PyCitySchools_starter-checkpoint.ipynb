{
 "cells": [
  {
   "cell_type": "markdown",
   "metadata": {},
   "source": [
    "### Note\n",
    "* Instructions have been included for each segment. You do not have to follow them exactly, but they are included to help you think through the steps."
   ]
  },
  {
   "cell_type": "code",
   "execution_count": null,
   "metadata": {},
   "outputs": [],
   "source": [
    "# Dependencies and Setup\n",
    "import pandas as pd\n",
    "\n",
    "# File to Load (Remember to Change These)\n",
    "school_data_to_load = \"Resources/schools_complete.csv\"\n",
    "student_data_to_load = \"Resources/students_complete.csv\"\n",
    "\n",
    "# Read School and Student Data File and store into Pandas DataFrames\n",
    "school_data = pd.read_csv(school_data_to_load)\n",
    "student_data = pd.read_csv(student_data_to_load)\n",
    "\n",
    "# Combine the data into a single dataset.  \n",
    "school_data_complete = pd.merge(student_data, school_data, how=\"left\", on=[\"school_name\", \"school_name\"])"
   ]
  },
  {
   "cell_type": "markdown",
   "metadata": {},
   "source": [
    "## District Summary\n",
    "\n",
    "* Calculate the total number of schools\n",
    "\n",
    "* Calculate the total number of students\n",
    "\n",
    "* Calculate the total budget\n",
    "\n",
    "* Calculate the average math score \n",
    "\n",
    "* Calculate the average reading score\n",
    "\n",
    "* Calculate the percentage of students with a passing math score (70 or greater)\n",
    "\n",
    "* Calculate the percentage of students with a passing reading score (70 or greater)\n",
    "\n",
    "* Calculate the percentage of students who passed math **and** reading (% Overall Passing)\n",
    "\n",
    "* Create a dataframe to hold the above results\n",
    "\n",
    "* Optional: give the displayed data cleaner formatting"
   ]
  },
  {
   "cell_type": "code",
   "execution_count": null,
   "metadata": {},
   "outputs": [],
   "source": [
    "# Calculating the Total Number of Schools\n",
    "schoolCount = school_data_complete['school_name'].nunique()\n",
    "\n",
    "#Calculating the Total Number of Students\n",
    "studentCount = school_data_complete['student_name'].count()\n",
    "\n",
    "#Calculating the Total Budget\n",
    "totalBudget = school_data_complete['budget'].unique().sum()\n",
    "\n",
    "#Calculating the Average Math Score\n",
    "avgMathScore = school_data_complete['math_score'].mean()\n",
    "\n",
    "#Calculating the Average Reading Score\n",
    "avgReadScore = school_data_complete['reading_score'].mean()\n",
    "\n",
    "#Calculating the Percentage of Students with a Passing Math Score (70 or greater)\n",
    "passMath = school_data_complete.loc[school_data_complete['math_score']>=70,:]\n",
    "percentPassMath = ((passMath['math_score'].count())/studentCount)*100\n",
    "\n",
    "#Calculating the Percentage of Students with a Passing Reading Score (70 or greater)\n",
    "passRead = school_data_complete.loc[school_data_complete['reading_score']>=70,:]\n",
    "percentPassRead = ((passRead['reading_score'].count())/studentCount)*100\n",
    "\n",
    "#Calculating the Percentage of Students Who Passed Math and Reading\n",
    "passMathRead = school_data_complete.loc[(school_data_complete['math_score']>=70) & (school_data_complete['reading_score']>=70),:]\n",
    "percentMathRead = ((passMathRead['student_name'].count())/studentCount)*100\n",
    "\n",
    "#Creating DataFrame for the Above Values\n",
    "districtSummary = pd.DataFrame({'Total Schools':[schoolCount],'Total Students':[studentCount],'Total Budget': [totalBudget], 'Average Math Score':[avgMathScore], 'Average Reading Score': [avgReadScore], '% Passing Math': [percentPassMath], '% Passing Reading': [percentPassRead], '% Overall Passing': [percentMathRead]})\n",
    "\n",
    "#Formatting Data\n",
    "districtSummary['Total Students'] = districtSummary['Total Students'].map('{:,}'.format)\n",
    "districtSummary['Total Budget'] = districtSummary['Total Budget'].map('${:,.2f}'.format)\n",
    "districtSummary"
   ]
  },
  {
   "cell_type": "markdown",
   "metadata": {},
   "source": [
    "## School Summary"
   ]
  },
  {
   "cell_type": "markdown",
   "metadata": {},
   "source": [
    "* Create an overview table that summarizes key metrics about each school, including:\n",
    "  * School Name\n",
    "  * School Type\n",
    "  * Total Students\n",
    "  * Total School Budget\n",
    "  * Per Student Budget\n",
    "  * Average Math Score\n",
    "  * Average Reading Score\n",
    "  * % Passing Math\n",
    "  * % Passing Reading\n",
    "  * % Overall Passing (The percentage of students that passed math **and** reading.)\n",
    "  \n",
    "* Create a dataframe to hold the above results"
   ]
  },
  {
   "cell_type": "code",
   "execution_count": null,
   "metadata": {},
   "outputs": [],
   "source": [
    "#Using Groupby to Separate Data into Fields\n",
    "grouped_school = school_data_complete.groupby(['school_name'])\n",
    "\n",
    "#Finding School Type:\n",
    "schoolType = school_data_complete.set_index(['school_name'])['type']\n",
    "#Sort the Index in Ascending Order\n",
    "schoolType = schoolType.sort_index()\n",
    "\n",
    "#The School Type is now in Column 0. I can extract this using a For Loop.\n",
    "type_list = []\n",
    "for key in schoolType.keys().unique():\n",
    "    type_list.append(schoolType[key][0])\n",
    "\n",
    "#Finding Total Number of Students\n",
    "grouped_studentTotal = grouped_school['student_name'].count()\n",
    "\n",
    "#Finding Total School Budget\n",
    "grouped_budgetTotal = grouped_school['budget'].unique().astype(float)\n",
    "\n",
    "#Finding Budget Per Student\n",
    "grouped_budgetPer = grouped_budgetTotal / grouped_studentTotal\n",
    "\n",
    "#Finding the Average Math and Reading School\n",
    "grouped_avgMath = grouped_school['math_score'].mean()\n",
    "grouped_avgRead = grouped_school['reading_score'].mean()\n",
    "\n",
    "#Finding the Percent Passing Math\n",
    "grouped_passMath = passMath.groupby(['school_name']).count()['math_score']\n",
    "grouped_perPassMath = (grouped_passMath / grouped_studentTotal)*100\n",
    "\n",
    "#Finding the Percent Passing Reading\n",
    "grouped_passRead = passRead.groupby(['school_name']).count()['reading_score']\n",
    "grouped_perPassRead = (grouped_passRead / grouped_studentTotal)*100\n",
    "\n",
    "#Finding the Percent Passing Math and Reading\n",
    "grouped_passMathRead = passMathRead.groupby(['school_name']).count()['student_name']\n",
    "grouped_perPassMathRead = (grouped_passMathRead / grouped_studentTotal)*100\n",
    "\n",
    "#Creating a Summary Table Per School\n",
    "schoolSummary = pd.DataFrame({'School Type': type_list, 'Total Students': grouped_studentTotal, \n",
    "                        'Total School Budget': grouped_budgetTotal, 'Per Student Budget': grouped_budgetPer,\n",
    "                       'Average Math Score': grouped_avgMath, 'Average Reading Score': grouped_avgRead, \n",
    "                        '% Passing Math': grouped_perPassMath, '% Passing Reading': grouped_perPassRead,\n",
    "                       '% Overall Passing': grouped_perPassMathRead})\n",
    "\n",
    "schoolSummary"
   ]
  },
  {
   "cell_type": "code",
   "execution_count": null,
   "metadata": {},
   "outputs": [],
   "source": [
    "## Top Performing Schools (By % Overall Passing)"
   ]
  },
  {
   "cell_type": "markdown",
   "metadata": {},
   "source": [
    "* Sort and display the top five performing schools by % overall passing."
   ]
  },
  {
   "cell_type": "code",
   "execution_count": null,
   "metadata": {
    "scrolled": false
   },
   "outputs": [],
   "source": [
    "overall_df = schoolSummary.sort_values('% Overall Passing', ascending = False)\n",
    "overall_df.head()"
   ]
  },
  {
   "cell_type": "code",
   "execution_count": null,
   "metadata": {},
   "outputs": [],
   "source": [
    "## Bottom Performing Schools (By % Overall Passing)"
   ]
  },
  {
   "cell_type": "markdown",
   "metadata": {},
   "source": [
    "* Sort and display the five worst-performing schools by % overall passing."
   ]
  },
  {
   "cell_type": "code",
   "execution_count": null,
   "metadata": {},
   "outputs": [],
   "source": [
    "overall_df = schoolSummary.sort_values('% Overall Passing', ascending = True)\n",
    "overall_df.head()"
   ]
  },
  {
   "cell_type": "markdown",
   "metadata": {
    "collapsed": true
   },
   "source": [
    "## Math Scores by Grade"
   ]
  },
  {
   "cell_type": "markdown",
   "metadata": {},
   "source": [
    "* Create a table that lists the average Math Score for students of each grade level (9th, 10th, 11th, 12th) at each school.\n",
    "\n",
    "  * Create a pandas series for each grade. Hint: use a conditional statement.\n",
    "  \n",
    "  * Group each series by school\n",
    "  \n",
    "  * Combine the series into a dataframe\n",
    "  \n",
    "  * Optional: give the displayed data cleaner formatting"
   ]
  },
  {
   "cell_type": "code",
   "execution_count": null,
   "metadata": {},
   "outputs": [],
   "source": [
    "#Creating Four Separate DataFrames for Each Grade, Using .loc .\n",
    "gradeNineMath = school_data_complete.loc[school_data_complete['grade'] == '9th',:]\n",
    "gradeTenMath = school_data_complete.loc[school_data_complete['grade'] == '10th',:]\n",
    "gradeElevenMath = school_data_complete.loc[school_data_complete['grade'] == '11th',:]\n",
    "gradeTwelveMath = school_data_complete.loc[school_data_complete['grade'] == '12th',:]\n",
    "\n",
    "#Dropping the Columns I Do Not Need\n",
    "gradeNineMath = gradeNineMath.drop(['Student ID','student_name','reading_score','School ID','type','size','budget','gender','grade'], axis=1)\n",
    "gradeTenMath = gradeTenMath.drop(['Student ID','student_name','reading_score','School ID','type','size','budget','gender','grade'], axis=1)\n",
    "gradeElevenMath = gradeElevenMath.drop(['Student ID','student_name','reading_score','School ID','type','size','budget','gender','grade'], axis=1)\n",
    "gradeTwelveMath = gradeTwelveMath.drop(['Student ID','student_name','reading_score','School ID','type','size','budget','gender','grade'], axis=1)\n",
    "\n",
    "#Grouping the DataFrames by School Name and Finding the Mean\n",
    "gradeNineMath = gradeNineMath.groupby('school_name').mean()\n",
    "gradeTenMath = gradeTenMath.groupby('school_name').mean()\n",
    "gradeElevenMath = gradeElevenMath.groupby('school_name').mean()\n",
    "gradeTwelveMath = gradeTwelveMath.groupby('school_name').mean()\n",
    "\n",
    "#Merging the Groupby Objects\n",
    "grade_merge1_Math = pd.merge(gradeNineMath, gradeTenMath, on='school_name') #Merging Grades 9 and 10\n",
    "grade_merge2_Math = pd.merge(gradeElevenMath, gradeTwelveMath, on='school_name') #Merging Grades 11 and 12\n",
    "grade_merge_Math = pd.merge(grade_merge1_Math, grade_merge2_Math, on='school_name') #Merging All Grades\n",
    "\n",
    "#Creating a New DataFrame\n",
    "mathScoregrade = pd.DataFrame(grade_merge_Math)\n",
    "\n",
    "#Renaming the Columns\n",
    "mathScoregrade.rename(columns={'math_score_x_x':'9th', 'math_score_y_x': '10th', \n",
    "                               'math_score_x_y': '11th', 'math_score_y_y': '12th'}, inplace=True)\n",
    "mathScoregrade"
   ]
  },
  {
   "cell_type": "markdown",
   "metadata": {},
   "source": [
    "## Reading Score by Grade "
   ]
  },
  {
   "cell_type": "markdown",
   "metadata": {},
   "source": [
    "* Perform the same operations as above for reading scores"
   ]
  },
  {
   "cell_type": "code",
   "execution_count": null,
   "metadata": {},
   "outputs": [],
   "source": [
    "#Creating Four Separate DataFrames for Each Grade, Using .loc .\n",
    "gradeNineRead = school_data_complete.loc[school_data_complete['grade'] == '9th',:]\n",
    "gradeTenRead = school_data_complete.loc[school_data_complete['grade'] == '10th',:]\n",
    "gradeElevenRead = school_data_complete.loc[school_data_complete['grade'] == '11th',:]\n",
    "gradeTwelveRead = school_data_complete.loc[school_data_complete['grade'] == '12th',:]\n",
    "\n",
    "#Dropping the Columns I Do Not Need\n",
    "gradeNineRead = gradeNineRead.drop(['Student ID','student_name','math_score','School ID','type','size','budget','gender','grade'], axis=1)\n",
    "gradeTenRead = gradeTenRead.drop(['Student ID','student_name','math_score','School ID','type','size','budget','gender','grade'], axis=1)\n",
    "gradeElevenRead = gradeElevenRead.drop(['Student ID','student_name','math_score','School ID','type','size','budget','gender','grade'], axis=1)\n",
    "gradeTwelveRead = gradeTwelveRead.drop(['Student ID','student_name','math_score','School ID','type','size','budget','gender','grade'], axis=1)\n",
    "\n",
    "#Grouping the DataFrames by School Name and Finding the Mean\n",
    "gradeNineRead = gradeNineRead.groupby('school_name').mean()\n",
    "gradeTenRead = gradeTenRead.groupby('school_name').mean()\n",
    "gradeElevenRead = gradeElevenRead.groupby('school_name').mean()\n",
    "gradeTwelveRead = gradeTwelveRead.groupby('school_name').mean()\n",
    "\n",
    "#Merging the Groupby Objects\n",
    "grade_merge1_Read = pd.merge(gradeNineRead, gradeTenRead, on='school_name') #Merging Grades 9 and 10\n",
    "grade_merge2_Read = pd.merge(gradeElevenRead, gradeTwelveRead, on='school_name') #Merging Grades 11 and 12\n",
    "grade_merge_Read = pd.merge(grade_merge1_Read, grade_merge2_Read, on='school_name') #Merging All Grades\n",
    "\n",
    "#Creating a New DataFrame\n",
    "readScoregrade = pd.DataFrame(grade_merge_Read)\n",
    "\n",
    "#Renaming the Columns\n",
    "readScoregrade.rename(columns={'reading_score_x_x':'9th', 'reading_score_y_x': '10th', \n",
    "                               'reading_score_x_y': '11th', 'reading_score_y_y': '12th'}, inplace=True)\n",
    "readScoregrade"
   ]
  },
  {
   "cell_type": "markdown",
   "metadata": {},
   "source": [
    "## Scores by School Spending"
   ]
  },
  {
   "cell_type": "markdown",
   "metadata": {},
   "source": [
    "* Create a table that breaks down school performances based on average Spending Ranges (Per Student). Use 4 reasonable bins to group school spending. Include in the table each of the following:\n",
    "  * Average Math Score\n",
    "  * Average Reading Score\n",
    "  * % Passing Math\n",
    "  * % Passing Reading\n",
    "  * Overall Passing Rate (Average of the above two)"
   ]
  },
  {
   "cell_type": "code",
   "execution_count": null,
   "metadata": {},
   "outputs": [],
   "source": [
    "#Creating Bins and the Group Names\n",
    "bins = [0, 585, 630, 645, 680]\n",
    "group_names = ['$<585', '$585-630','$630-645','$645-680']\n",
    "\n",
    "#Most of this Data Already Exists in schoolSummary. Therefore, I will use the pd.cut() method with this DataFrame.\n",
    "schoolSummary['Spending Ranges (Per Student)'] = pd.cut(schoolSummary['Per Student Budget'], bins, labels=group_names, include_lowest=True)\n",
    "\n",
    "#Dropping the Columns I Do Not Need\n",
    "scoresBYspending = schoolSummary.drop(['School Type', 'Total Students', 'Total School Budget', 'Per Student Budget'], axis=1)\n",
    "\n",
    "#Grouping by Spending Ranges and Solving for Mean\n",
    "scoresBYspending = scoresBYspending.groupby(['Spending Ranges (Per Student)']).mean()\n",
    "\n",
    "#Formating scoresByspending DataFrame\n",
    "scoresBYspending['Average Math Score'] = scoresBYspending['Average Math Score'].map('{:.2f}'.format)\n",
    "scoresBYspending['Average Reading Score'] = scoresBYspending['Average Reading Score'].map('{:.2f}'.format)\n",
    "scoresBYspending['% Passing Math'] = scoresBYspending['% Passing Math'].map('{:.2f}'.format)\n",
    "scoresBYspending['% Passing Reading'] = scoresBYspending['% Passing Reading'].map('{:.2f}'.format)\n",
    "scoresBYspending['% Overall Passing'] = scoresBYspending['% Overall Passing'].map('{:.2f}'.format)\n",
    "\n",
    "#Displaying scoresByspending DataFrame\n",
    "scoresBYspending"
   ]
  },
  {
   "cell_type": "markdown",
   "metadata": {},
   "source": [
    "## Scores by School Size"
   ]
  },
  {
   "cell_type": "markdown",
   "metadata": {},
   "source": [
    "* Perform the same operations as above, based on school size."
   ]
  },
  {
   "cell_type": "code",
   "execution_count": null,
   "metadata": {
    "scrolled": true
   },
   "outputs": [],
   "source": [
    "#Creating a Series for the Size, Grouped by School Name. This will make it Easier to Add to schoolSummary.\n",
    "grouped_size = grouped_school['size'].count()\n",
    "\n",
    "#Adding Size Column to schoolSummary\n",
    "schoolSummary['Size'] = grouped_size\n",
    "\n",
    "#Creating Bins and the Group Names\n",
    "bins = [0, 1000, 2000, 5000]\n",
    "group_names = ['Small(<1000)', 'Medium(1000-2000)','Large(2000-5000)']\n",
    "\n",
    "#Most of this Data Already Exists in schoolSummary. Therefore, I will use the pd.cut() method with this DataFrame.\n",
    "schoolSummary['School Size'] = pd.cut(schoolSummary['Size'], bins, labels=group_names, include_lowest=True)\n",
    "\n",
    "#Dropping the Columns I Do Not Need\n",
    "scoresBYsize = schoolSummary.drop(['School Type', 'Total Students', 'Total School Budget', 'Per Student Budget', 'Size'], axis=1)\n",
    "\n",
    "#Grouping by School Size and Solving for Mean\n",
    "scoresBYsize = scoresBYsize.groupby(['School Size']).mean()\n",
    "\n",
    "#Displaying scoresBysize DataFrame\n",
    "scoresBYsize"
   ]
  },
  {
   "cell_type": "markdown",
   "metadata": {},
   "source": [
    "## Scores by School Type"
   ]
  },
  {
   "cell_type": "markdown",
   "metadata": {},
   "source": [
    "* Perform the same operations as above, based on school type"
   ]
  },
  {
   "cell_type": "code",
   "execution_count": null,
   "metadata": {},
   "outputs": [],
   "source": [
    "#This Data Already Exists in School Summary. I just need to Groupby School Type and Solve for the Mean\n",
    "scoresBYtype = schoolSummary.groupby(['School Type']).mean()\n",
    "\n",
    "#Dropping the Columns I Do Not Need\n",
    "scoresBYtype = scoresBYtype.drop(['Per Student Budget', 'Size', 'Total Students', 'Total School Budget'], axis=1)\n",
    "\n",
    "scoresBYtype"
   ]
  },
  {
   "cell_type": "markdown",
   "metadata": {},
   "source": [
    "WRITTEN REPORT OF OBSERVABLE TRENDS:\n",
    "\n",
    "1. The Top 5 Performing Schools by % Overall Passing are all Charter Schools. Whereas the Bottom 5 Performing Schools by % Overall Passing are all District Schools. It should be noted that this trend is not related to each school's Budget Per Student. For example, the Top 5 Performing Schools by % Overall Passing have a Budget Per Student ranging from `$578` to `$638`. In contrast, the Bottom 5 have a Budget Per Student ranging from `$637` to `$655`. The data would suggest that Overall Performance has to do with the size of the school. The Top 5 Schools have a size ranging from `962` to `2283`. Whereas the Bottom 5 Schools have a size ranging from `2917` to `4761`. In summary, the Top 5 Performing Schools are Charter Schools, most likely due to the school size.\n",
    "\n",
    "2. Reading and Math grades are consistent across grade levels regardless of the school's budget or type. Both school types perform the best in Reading. However, the difference in % Passing in Math and Reading is more significant for a district school, rather a charter school. "
   ]
  },
  {
   "cell_type": "code",
   "execution_count": null,
   "metadata": {},
   "outputs": [],
   "source": []
  }
 ],
 "metadata": {
  "anaconda-cloud": {},
  "kernel_info": {
   "name": "python3"
  },
  "kernelspec": {
   "display_name": "MyPythonEnv",
   "language": "python",
   "name": "mypythonenv"
  },
  "language_info": {
   "codemirror_mode": {
    "name": "ipython",
    "version": 3
   },
   "file_extension": ".py",
   "mimetype": "text/x-python",
   "name": "python",
   "nbconvert_exporter": "python",
   "pygments_lexer": "ipython3",
   "version": "3.8.3"
  },
  "latex_envs": {
   "LaTeX_envs_menu_present": true,
   "autoclose": false,
   "autocomplete": true,
   "bibliofile": "biblio.bib",
   "cite_by": "apalike",
   "current_citInitial": 1,
   "eqLabelWithNumbers": true,
   "eqNumInitial": 1,
   "hotkeys": {
    "equation": "Ctrl-E",
    "itemize": "Ctrl-I"
   },
   "labels_anchors": false,
   "latex_user_defs": false,
   "report_style_numbering": false,
   "user_envs_cfg": false
  },
  "nteract": {
   "version": "0.8.4"
  }
 },
 "nbformat": 4,
 "nbformat_minor": 1
}
